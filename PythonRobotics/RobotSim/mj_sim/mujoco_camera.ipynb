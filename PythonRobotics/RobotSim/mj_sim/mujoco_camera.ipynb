{
 "cells": [
  {
   "cell_type": "code",
   "execution_count": 19,
   "metadata": {},
   "outputs": [
    {
     "data": {
      "text/html": [
       "<table class=\"show_images\" style=\"border-spacing:0px;\"><tr><td style=\"padding:1px;\"><img width=\"320\" height=\"240\" style=\"image-rendering:auto; object-fit:cover;\" src=\"data:image/png;base64,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\"/></td></tr></table>"
      ],
      "text/plain": [
       "<IPython.core.display.HTML object>"
      ]
     },
     "metadata": {},
     "output_type": "display_data"
    }
   ],
   "source": [
    "import mujoco\n",
    "import mediapy as media\n",
    "import matplotlib.pyplot as plt\n",
    "import numpy as np\n",
    "import itertools\n",
    "\n",
    "# print(mujoco.plugin_list())\n",
    "\n",
    "xml = \"\"\"\n",
    "<mujoco>\n",
    "  \n",
    "  <option timestep=\".001\"/>\n",
    "\n",
    "<worldbody>\n",
    "   <composite type=\"grid\" count=\"20 1 1\" spacing=\"0.045\" offset=\"0 0 1\">\n",
    "  <joint kind=\"main\" damping=\"0.001\"/>\n",
    "  <tendon kind=\"main\" width=\"0.01\"/>\n",
    "  <geom size=\".02\" rgba=\".8 .2 .1 1\"/>\n",
    "  <pin coord=\"1\"/>\n",
    "  <pin coord=\"13\"/>\n",
    "</composite>\n",
    "</worldbody>\n",
    "</mujoco>\n",
    "\"\"\"\n",
    "model = mujoco.MjModel.from_xml_string(xml)\n",
    "data = mujoco.MjData(model)\n",
    "\n",
    "with mujoco.Renderer(model) as renderer:\n",
    "    mujoco.mj_forward(model, data)\n",
    "    renderer.update_scene(data)\n",
    "    media.show_image(renderer.render())"
   ]
  },
  {
   "cell_type": "code",
   "execution_count": 20,
   "metadata": {},
   "outputs": [
    {
     "data": {
      "text/html": [
       "<table class=\"show_images\" style=\"border-spacing:0px;\"><tr><td style=\"padding:1px;\"><img width=\"320\" height=\"240\" style=\"image-rendering:auto; object-fit:cover;\" src=\"data:image/png;base64,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\"/></td></tr></table>"
      ],
      "text/plain": [
       "<IPython.core.display.HTML object>"
      ]
     },
     "metadata": {},
     "output_type": "display_data"
    }
   ],
   "source": [
    "with mujoco.Renderer(model) as renderer:\n",
    "    # update renderer to render depth\n",
    "    renderer.enable_depth_rendering()\n",
    "\n",
    "    # reset the scene\n",
    "    renderer.update_scene(data)\n",
    "\n",
    "    # depth is a float array, in meters.\n",
    "    depth = renderer.render()\n",
    "\n",
    "    # Shift nearest values to the origin.\n",
    "    depth -= depth.min()\n",
    "    # Scale by 2 mean distances of near rays.\n",
    "    depth /= 2*depth[depth <= 1].mean()\n",
    "    # Scale to [0, 255]\n",
    "    pixels = 255*np.clip(depth, 0, 1)\n",
    "\n",
    "    media.show_image(pixels.astype(np.uint8))"
   ]
  },
  {
   "cell_type": "code",
   "execution_count": 21,
   "metadata": {},
   "outputs": [
    {
     "data": {
      "text/html": [
       "<table class=\"show_images\" style=\"border-spacing:0px;\"><tr><td style=\"padding:1px;\"><img width=\"320\" height=\"240\" style=\"image-rendering:auto; object-fit:cover;\" src=\"data:image/png;base64,iVBORw0KGgoAAAANSUhEUgAAAUAAAADwCAIAAAD+Tyo8AAADgElEQVR4nO3ZMUwqSRgH8PVypdoTe2OPvdCDvbHX3tADvdprb+yNPdhjb+yJPbHnFV8ymTcu6zvuvSh3v1+1H8PuDDD/nWW3qgAAAAAAAAAAAAAAAAAAAAAAAAAAAAAAAAAAAAAAAAAAAAAAAAAAAAAAAAAAAAAAAAAAAAAAAAAAAAAAAAAAAAAAAAAAAAAAAAAAAAAAAAAAAAAAAAAAAAAAAAAAAAAAAAAAAAAAAAAAAAAAAD7a+uoB/Abb29t5+f7+npetVisv397e8nJ/fz8vX19f03a73c6bnp+f8/Lo6Cgvn56e8rLX6+Xl4+NjXp6cnOTl/f192j47O8ubbm9v8/Li4iIvr6+v83I4HObleDxO25eXl3nTYDDIy5ubm7w8Pz/Py7u7u7w8PT1N2w8PD3nT8fFxXk4mk7zsdrt5OZvN8vLw8DAvX15e8vLg4CBtz+fzvGlvby8vF4tFXu7u7ublcrnMy62tjZ//G/8BivSGlOEivSFluEhviAwX6Q0pw0V6Q8pwkd4QGS6im0SGi/SGlOEivSFluEhviAwX6Q0pw0V6Q8pwkd4QGS7Sm0SMi/SGlOEivSFluEhviAwX6Q0pw0V6Q8pwkd6w6Rn++6sH8EdEqvv9/nQ6LZo6nU68uLOz83HH4XCYL1yFxWLR7XYnk0m/3//YulwuO53Oqk4bRlubvWQ+n4/H44/HDJHq0Wh0dXX1j448m81WHbOqqlarNRqNVr0hUj0YDGpPDauCXVXVcrmcTqerDtvr9Ro6jVTXdppSHb9O0dput2vPJv8Nf331AP6V2uU3paV2KjRnqbm14bCf7tuQluY3xKq1agrGsl9c3hfjqR1YvNg8qlWtxf+F2h0bvo1f+ZLXU3vdlL662n5rl+UNstkB/u1iyjYvid9Q7cRt9ukJpfqTSVtDnDW+1ZC+g80OcHG/Kqy3quQarqLX9unMW29q1v4b/xXR3apOm9fnTztd77M07xWdNv98tVciSe2+m/4feLNHX7mJ5SbW//sm1maPPmz0Y6T8GVK1aY+Rqp9j7DESAAAAAAAAAAAAAAAAAAAAAAAAAAAAAAAAAAAAAAAAAAAAAAAAAAAAAAAAAAAAAAAAAAAAAAAAAAAAAAAAAAAAAAAAAAAAAAAAAAAAAAAAAAAAAAAAAAAAAAAAAAAAAAAAAAAAAAAAAAAAAADA9/AD5mWKuQ9W0hsAAAAASUVORK5CYII=\"/></td></tr></table>"
      ],
      "text/plain": [
       "<IPython.core.display.HTML object>"
      ]
     },
     "metadata": {},
     "output_type": "display_data"
    }
   ],
   "source": [
    "with mujoco.Renderer(model) as renderer:\n",
    "    renderer.disable_depth_rendering()\n",
    "\n",
    "    # update renderer to render segmentation\n",
    "    renderer.enable_segmentation_rendering()\n",
    "\n",
    "    # reset the scene\n",
    "    renderer.update_scene(data)\n",
    "\n",
    "    seg = renderer.render()\n",
    "\n",
    "    # Display the contents of the first channel, which contains object\n",
    "    # IDs. The second channel, seg[:, :, 1], contains object types.\n",
    "    geom_ids = seg[:, :, 0]\n",
    "    # Infinity is mapped to -1\n",
    "    geom_ids = geom_ids.astype(np.float64) + 1\n",
    "    # Scale to [0, 1]\n",
    "    geom_ids = geom_ids / geom_ids.max()\n",
    "    pixels = 255*geom_ids\n",
    "    media.show_image(pixels.astype(np.uint8))"
   ]
  },
  {
   "cell_type": "code",
   "execution_count": 22,
   "metadata": {},
   "outputs": [],
   "source": [
    "def compute_camera_matrix(renderer, data):\n",
    "    \"\"\"Returns the 3x4 camera matrix.\"\"\"\n",
    "    # If the camera is a 'free' camera, we get its position and orientation\n",
    "    # from the scene data structure. It is a stereo camera, so we average over\n",
    "    # the left and right channels. Note: we call `self.update()` in order to\n",
    "    # ensure that the contents of `scene.camera` are correct.\n",
    "    renderer.update_scene(data)\n",
    "    pos = np.mean([camera.pos for camera in renderer.scene.camera], axis=0)\n",
    "    z = -np.mean([camera.forward for camera in renderer.scene.camera], axis=0)\n",
    "    y = np.mean([camera.up for camera in renderer.scene.camera], axis=0)\n",
    "    rot = np.vstack((np.cross(y, z), y, z))\n",
    "    fov = model.vis.global_.fovy\n",
    "\n",
    "    # Translation matrix (4x4).\n",
    "    translation = np.eye(4)\n",
    "    translation[0:3, 3] = -pos\n",
    "\n",
    "    # Rotation matrix (4x4).\n",
    "    rotation = np.eye(4)\n",
    "    rotation[0:3, 0:3] = rot\n",
    "\n",
    "    # Focal transformation matrix (3x4).\n",
    "    focal_scaling = (1./np.tan(np.deg2rad(fov)/2)) * renderer.height / 2.0\n",
    "    focal = np.diag([-focal_scaling, focal_scaling, 1.0, 0])[0:3, :]\n",
    "\n",
    "    # Image matrix (3x3).\n",
    "    image = np.eye(3)\n",
    "    image[0, 2] = (renderer.width - 1) / 2.0\n",
    "    image[1, 2] = (renderer.height - 1) / 2.0\n",
    "    return image @ focal @ rotation @ translation"
   ]
  },
  {
   "cell_type": "code",
   "execution_count": 23,
   "metadata": {},
   "outputs": [
    {
     "ename": "KeyError",
     "evalue": "\"Invalid name 'red_box'. Valid names: ['G0_0', 'G10_0', 'G11_0', 'G12_0', 'G13_0', 'G14_0', 'G15_0', 'G16_0', 'G17_0', 'G18_0', 'G19_0', 'G1_0', 'G2_0', 'G3_0', 'G4_0', 'G5_0', 'G6_0', 'G7_0', 'G8_0', 'G9_0']\"",
     "output_type": "error",
     "traceback": [
      "\u001b[0;31m---------------------------------------------------------------------------\u001b[0m",
      "\u001b[0;31mKeyError\u001b[0m                                  Traceback (most recent call last)",
      "Cell \u001b[0;32mIn[23], line 7\u001b[0m\n\u001b[1;32m      4\u001b[0m renderer\u001b[38;5;241m.\u001b[39mupdate_scene(data)\n\u001b[1;32m      6\u001b[0m \u001b[38;5;66;03m# Get the world coordinates of the box corners\u001b[39;00m\n\u001b[0;32m----> 7\u001b[0m box_pos \u001b[38;5;241m=\u001b[39m data\u001b[38;5;241m.\u001b[39mgeom_xpos[model\u001b[38;5;241m.\u001b[39mgeom(\u001b[38;5;124m'\u001b[39m\u001b[38;5;124mred_box\u001b[39m\u001b[38;5;124m'\u001b[39m)\u001b[38;5;241m.\u001b[39mid]\n\u001b[1;32m      8\u001b[0m box_mat \u001b[38;5;241m=\u001b[39m data\u001b[38;5;241m.\u001b[39mgeom_xmat[model\u001b[38;5;241m.\u001b[39mgeom(\u001b[38;5;124m'\u001b[39m\u001b[38;5;124mred_box\u001b[39m\u001b[38;5;124m'\u001b[39m)\u001b[38;5;241m.\u001b[39mid]\u001b[38;5;241m.\u001b[39mreshape(\u001b[38;5;241m3\u001b[39m, \u001b[38;5;241m3\u001b[39m)\n\u001b[1;32m      9\u001b[0m box_size \u001b[38;5;241m=\u001b[39m model\u001b[38;5;241m.\u001b[39mgeom_size[model\u001b[38;5;241m.\u001b[39mgeom(\u001b[38;5;124m'\u001b[39m\u001b[38;5;124mred_box\u001b[39m\u001b[38;5;124m'\u001b[39m)\u001b[38;5;241m.\u001b[39mid]\n",
      "\u001b[0;31mKeyError\u001b[0m: \"Invalid name 'red_box'. Valid names: ['G0_0', 'G10_0', 'G11_0', 'G12_0', 'G13_0', 'G14_0', 'G15_0', 'G16_0', 'G17_0', 'G18_0', 'G19_0', 'G1_0', 'G2_0', 'G3_0', 'G4_0', 'G5_0', 'G6_0', 'G7_0', 'G8_0', 'G9_0']\""
     ]
    }
   ],
   "source": [
    "with mujoco.Renderer(model) as renderer:\n",
    "    renderer.disable_segmentation_rendering()\n",
    "    # reset the scene\n",
    "    renderer.update_scene(data)\n",
    "\n",
    "    # Get the world coordinates of the box corners\n",
    "    box_pos = data.geom_xpos[model.geom('red_box').id]\n",
    "    box_mat = data.geom_xmat[model.geom('red_box').id].reshape(3, 3)\n",
    "    box_size = model.geom_size[model.geom('red_box').id]\n",
    "    offsets = np.array([-1, 1]) * box_size[:, None]\n",
    "    xyz_local = np.stack(list(itertools.product(*offsets))).T\n",
    "    xyz_global = box_pos[:, None] + box_mat @ xyz_local\n",
    "\n",
    "    # Camera matrices multiply homogenous [x, y, z, 1] vectors.\n",
    "    corners_homogeneous = np.ones((4, xyz_global.shape[1]), dtype=float)\n",
    "    corners_homogeneous[:3, :] = xyz_global\n",
    "\n",
    "    # Get the camera matrix.\n",
    "    m = compute_camera_matrix(renderer, data)\n",
    "\n",
    "    # Project world coordinates into pixel space. See:\n",
    "    # https://en.wikipedia.org/wiki/3D_projection#Mathematical_formula\n",
    "    xs, ys, s = m @ corners_homogeneous\n",
    "    # x and y are in the pixel coordinate system.\n",
    "    x = xs / s\n",
    "    y = ys / s\n",
    "\n",
    "    # Render the camera view and overlay the projected corner coordinates.\n",
    "    pixels = renderer.render()\n",
    "    fig, ax = plt.subplots(1, 1)\n",
    "    ax.imshow(pixels)\n",
    "    ax.plot(x, y, '+', c='w')\n",
    "    ax.set_axis_off()"
   ]
  }
 ],
 "metadata": {
  "kernelspec": {
   "display_name": "base",
   "language": "python",
   "name": "python3"
  },
  "language_info": {
   "codemirror_mode": {
    "name": "ipython",
    "version": 3
   },
   "file_extension": ".py",
   "mimetype": "text/x-python",
   "name": "python",
   "nbconvert_exporter": "python",
   "pygments_lexer": "ipython3",
   "version": "3.11.0"
  }
 },
 "nbformat": 4,
 "nbformat_minor": 2
}
